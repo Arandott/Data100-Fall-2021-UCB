{
 "cells": [
  {
   "cell_type": "code",
   "execution_count": 1,
   "id": "7742c77f",
   "metadata": {
    "deletable": false,
    "editable": false
   },
   "outputs": [],
   "source": [
    "# Initialize Otter\n",
    "import otter\n",
    "grader = otter.Notebook(\"covid_part2.ipynb\")"
   ]
  },
  {
   "cell_type": "markdown",
   "id": "02b82b09",
   "metadata": {},
   "source": [
    "# Final Project: COVID-19 Dataset\n",
    "## Exploring COVID-19 Data through Modeling\n",
    "## Due Date: Thursday, December 13th, 11:59 PM\n",
    "## Collaboration Policy\n",
    "\n",
    "Data science is a collaborative activity. While you may talk with other groups about\n",
    "the project, we ask that you **write your solutions individually**. If you do\n",
    "discuss the assignments with others outside of your group please **include their names** at the top\n",
    "of your notebook."
   ]
  },
  {
   "cell_type": "markdown",
   "id": "cb908b16",
   "metadata": {},
   "source": [
    "\n",
    "## This Assignment\n",
    "\n",
    "In this final project, we will investigate COVID-19 data over the past year. This data contains information about COVID-19 case counts, mortalities, vaccination rates, and various other metadata that can assist in modeling various aspects of COVID-19.\n",
    "\n",
    "Through this final project, you will demonstrate your experience with:\n",
    "* Data cleaning and EDA using Pandas\n",
    "* Unsupervised and supervised learning techniques\n",
    "* Visualization\n"
   ]
  },
  {
   "cell_type": "markdown",
   "id": "2a2811cb",
   "metadata": {},
   "source": [
    "## Goal\n",
    "\n",
    "Model and analyze the temporal evolution of COVID-19 mortalities or cases using one unsupervised and one supervised technique of your choice. Interpret your models' results through visualizations, and draw insightful conclusions about the modeling of COVID-19 data.\n",
    "\n",
    "Recall that we studied linear and logistic regression, decision trees, random forests as part of supervised learning (with labels) and clustering, PCA as part of unsupervised learning (without labels). You are free to use any methods that you find suitable to answer the problem at hand."
   ]
  },
  {
   "cell_type": "code",
   "execution_count": 2,
   "id": "9c01af05",
   "metadata": {},
   "outputs": [],
   "source": [
    "# Run this cell to set up your notebook\n",
    "import numpy as np\n",
    "from geopy import *\n",
    "import pandas as pd\n",
    "from sklearn.linear_model import LinearRegression\n",
    "from sklearn.model_selection import train_test_split\n",
    "from sklearn.cluster import *\n",
    "import matplotlib.pyplot as plt\n",
    "import seaborn as sns\n",
    "\n",
    "import warnings\n",
    "warnings.filterwarnings(\"ignore\")\n",
    "\n",
    "import plotly.graph_objects as go\n",
    "import plotly.express as px\n",
    "from plotly.subplots import make_subplots\n",
    "from scipy.stats import pearsonr\n",
    "import re\n",
    "\n",
    "cases = pd.read_csv('data/time_series_covid19_confirmed_US.csv') # https://github.com/CSSEGISandData/COVID-19/blob/master/csse_covid_19_data/csse_covid_19_time_series/time_series_covid19_confirmed_US.csv\n",
    "vaccinations = pd.read_csv('data/people_vaccinated_us_timeline.csv') # https://raw.githubusercontent.com/govex/COVID-19/master/data_tables/vaccine_data/us_data/time_series/people_vaccinated_us_timeline.csv\n",
    "counties = pd.read_csv('data/co-est2020.csv', encoding='latin-1') # https://www2.census.gov/programs-surveys/popest/datasets/2010-2020/counties/totals/co-est2020.csv\n",
    "mask_use = pd.read_csv('data/mask-use-by-county.csv') # https://github.com/nytimes/covid-19-data/blob/master/mask-use/mask-use-by-county.csv"
   ]
  },
  {
   "cell_type": "markdown",
   "id": "1f4b18d3",
   "metadata": {},
   "source": [
    "<br/><br/><br/>\n",
    "\n",
    "---\n",
    "\n",
    "<br/><br/><br/>\n",
    "\n",
    "## Data Cleaning (Again!)\n",
    "\n",
    "For this section, please copy over the appropriate answers from your previous notebook submission."
   ]
  },
  {
   "cell_type": "markdown",
   "id": "f4e6efb9",
   "metadata": {
    "deletable": false,
    "editable": false
   },
   "source": [
    "### Part 1: Question 1a\n",
    "\n",
    "Impute the null values in *all* the datasets with zero values or empty strings where appropriate.\n",
    "\n",
    "<!--\n",
    "BEGIN QUESTION\n",
    "name: q1a\n",
    "points: 0\n",
    "-->"
   ]
  },
  {
   "cell_type": "code",
   "execution_count": 3,
   "id": "dd43134a",
   "metadata": {},
   "outputs": [],
   "source": [
    "cases['FIPS'] = cases['FIPS'].fillna(0)\n",
    "cases['Admin2'] = cases['Admin2'].fillna('')\n",
    "vaccinations = vaccinations.fillna(0)"
   ]
  },
  {
   "cell_type": "code",
   "execution_count": 4,
   "id": "f42e23fb",
   "metadata": {
    "deletable": false,
    "editable": false
   },
   "outputs": [
    {
     "data": {
      "text/html": [
       "<p><strong><pre style='display: inline;'>q1a</pre></strong> passed!</p>"
      ],
      "text/plain": [
       "q1a results: All test cases passed!"
      ]
     },
     "execution_count": 4,
     "metadata": {},
     "output_type": "execute_result"
    }
   ],
   "source": [
    "grader.check(\"q1a\")"
   ]
  },
  {
   "cell_type": "markdown",
   "id": "32fdc73c",
   "metadata": {
    "deletable": false,
    "editable": false
   },
   "source": [
    "### Part 1: Question 1d\n",
    "\n",
    "Generate a valid FIPS code for the `counties` table.\n",
    "\n",
    "*Hint*: Refer to [this](https://transition.fcc.gov/oet/info/maps/census/fips/fips.txt) guide on FIPS codes.\n",
    "\n",
    "<!--\n",
    "BEGIN QUESTION\n",
    "name: q1d\n",
    "points: 0\n",
    "-->"
   ]
  },
  {
   "cell_type": "code",
   "execution_count": 5,
   "id": "8869affb",
   "metadata": {},
   "outputs": [],
   "source": [
    "counties['FIPS'] = counties['STATE'].astype(str).str.zfill(2) + counties['COUNTY'].astype(str).str.zfill(3)\n",
    "counties['FIPS'] = counties['FIPS'].astype(int)"
   ]
  },
  {
   "cell_type": "code",
   "execution_count": 6,
   "id": "f936214a",
   "metadata": {
    "deletable": false,
    "editable": false
   },
   "outputs": [
    {
     "data": {
      "text/html": [
       "<p><strong><pre style='display: inline;'>q1d</pre></strong> passed!</p>"
      ],
      "text/plain": [
       "q1d results: All test cases passed!"
      ]
     },
     "execution_count": 6,
     "metadata": {},
     "output_type": "execute_result"
    }
   ],
   "source": [
    "grader.check(\"q1d\")"
   ]
  },
  {
   "cell_type": "markdown",
   "id": "5851d0b6",
   "metadata": {
    "deletable": false,
    "editable": false
   },
   "source": [
    "### Part 1: Question 1e\n",
    "\n",
    "Merge the `counties`, `cases`, and `mask_use` tables on an appropriate primary key to generate county-wise data.\n",
    "\n",
    "<!--\n",
    "BEGIN QUESTION\n",
    "name: q1e\n",
    "points: 0\n",
    "-->"
   ]
  },
  {
   "cell_type": "code",
   "execution_count": 7,
   "id": "3730e8a2",
   "metadata": {},
   "outputs": [
    {
     "data": {
      "text/plain": [
       "(3141, 638)"
      ]
     },
     "execution_count": 7,
     "metadata": {},
     "output_type": "execute_result"
    }
   ],
   "source": [
    "county_data = pd.merge(\n",
    "    left = counties,\n",
    "    right = cases,\n",
    "    left_on = 'FIPS',\n",
    "    right_on = 'FIPS'\n",
    ")\n",
    "\n",
    "county_data = pd.merge(\n",
    "    left = county_data,\n",
    "    right = mask_use,\n",
    "    left_on = 'FIPS',\n",
    "    right_on = 'COUNTYFP'\n",
    ")\n",
    "\n",
    "county_data.shape"
   ]
  },
  {
   "cell_type": "code",
   "execution_count": 8,
   "id": "7a0a0793",
   "metadata": {
    "deletable": false,
    "editable": false
   },
   "outputs": [
    {
     "data": {
      "text/html": [
       "<p><strong><pre style='display: inline;'>q1e</pre></strong> passed!</p>"
      ],
      "text/plain": [
       "q1e results: All test cases passed!"
      ]
     },
     "execution_count": 8,
     "metadata": {},
     "output_type": "execute_result"
    }
   ],
   "source": [
    "grader.check(\"q1e\")"
   ]
  },
  {
   "cell_type": "markdown",
   "id": "b7bb5b84",
   "metadata": {
    "tags": []
   },
   "source": [
    "<br/><br/><br/>\n",
    "\n",
    "---\n",
    "\n",
    "<br/><br/><br/>\n",
    "\n",
    "## Question 5: Guided Supervised Modeling\n",
    "\n",
    "This section will guide you through creating a supervised learning framework that will predict the number of COVID-19 cases per capita given various COVID-19 safety protocols that have been implemented. Then, we will investigate the bias, variance, and observational noise of this framework.\n",
    "\n",
    "Note that any answer responses without the appropriate work (i.e. code or math) will be subject to additional review and will not receive any credit."
   ]
  },
  {
   "cell_type": "markdown",
   "id": "a94355a0",
   "metadata": {
    "deletable": false,
    "editable": false
   },
   "source": [
    "<!-- BEGIN QUESTION -->\n",
    "\n",
    "### Question 5a\n",
    "\n",
    "We will use county-wise mask usage data to predict the number of COVID-19 cases on September 12th, 2021. Create a visualization that shows the pairwise correlation between each combination of column in the mask usage data and the number of COVID-19 cases.\n",
    "\n",
    "*Hint*: You should be plotting 36 correlations.\n",
    "<!--\n",
    "BEGIN QUESTION\n",
    "name: q5a\n",
    "points: 3\n",
    "manual: True\n",
    "-->"
   ]
  },
  {
   "cell_type": "code",
   "execution_count": 9,
   "id": "2ece46e9",
   "metadata": {},
   "outputs": [
    {
     "data": {
      "text/plain": [
       "Index(['COUNTYFP', 'NEVER', 'RARELY', 'SOMETIMES', 'FREQUENTLY', 'ALWAYS'], dtype='object')"
      ]
     },
     "execution_count": 9,
     "metadata": {},
     "output_type": "execute_result"
    }
   ],
   "source": [
    "mask_use.columns"
   ]
  },
  {
   "cell_type": "code",
   "execution_count": 10,
   "id": "98cbca46",
   "metadata": {},
   "outputs": [
    {
     "data": {
      "text/html": [
       "<div>\n",
       "<style scoped>\n",
       "    .dataframe tbody tr th:only-of-type {\n",
       "        vertical-align: middle;\n",
       "    }\n",
       "\n",
       "    .dataframe tbody tr th {\n",
       "        vertical-align: top;\n",
       "    }\n",
       "\n",
       "    .dataframe thead th {\n",
       "        text-align: right;\n",
       "    }\n",
       "</style>\n",
       "<table border=\"1\" class=\"dataframe\">\n",
       "  <thead>\n",
       "    <tr style=\"text-align: right;\">\n",
       "      <th></th>\n",
       "      <th>NEVER</th>\n",
       "      <th>RARELY</th>\n",
       "      <th>SOMETIMES</th>\n",
       "      <th>FREQUENTLY</th>\n",
       "      <th>ALWAYS</th>\n",
       "      <th>Cases</th>\n",
       "    </tr>\n",
       "  </thead>\n",
       "  <tbody>\n",
       "    <tr>\n",
       "      <th>Alabama</th>\n",
       "      <td>0.081567</td>\n",
       "      <td>0.081090</td>\n",
       "      <td>0.146612</td>\n",
       "      <td>0.215343</td>\n",
       "      <td>0.475313</td>\n",
       "      <td>747606</td>\n",
       "    </tr>\n",
       "    <tr>\n",
       "      <th>Alaska</th>\n",
       "      <td>0.055679</td>\n",
       "      <td>0.063679</td>\n",
       "      <td>0.091214</td>\n",
       "      <td>0.337964</td>\n",
       "      <td>0.451286</td>\n",
       "      <td>93627</td>\n",
       "    </tr>\n",
       "    <tr>\n",
       "      <th>Arizona</th>\n",
       "      <td>0.049667</td>\n",
       "      <td>0.053200</td>\n",
       "      <td>0.094667</td>\n",
       "      <td>0.147333</td>\n",
       "      <td>0.655000</td>\n",
       "      <td>1048600</td>\n",
       "    </tr>\n",
       "    <tr>\n",
       "      <th>Arkansas</th>\n",
       "      <td>0.090920</td>\n",
       "      <td>0.087253</td>\n",
       "      <td>0.138360</td>\n",
       "      <td>0.220627</td>\n",
       "      <td>0.462867</td>\n",
       "      <td>469894</td>\n",
       "    </tr>\n",
       "    <tr>\n",
       "      <th>California</th>\n",
       "      <td>0.032310</td>\n",
       "      <td>0.030724</td>\n",
       "      <td>0.063690</td>\n",
       "      <td>0.158603</td>\n",
       "      <td>0.714638</td>\n",
       "      <td>4472660</td>\n",
       "    </tr>\n",
       "  </tbody>\n",
       "</table>\n",
       "</div>"
      ],
      "text/plain": [
       "               NEVER    RARELY  SOMETIMES  FREQUENTLY    ALWAYS    Cases\n",
       "Alabama     0.081567  0.081090   0.146612    0.215343  0.475313   747606\n",
       "Alaska      0.055679  0.063679   0.091214    0.337964  0.451286    93627\n",
       "Arizona     0.049667  0.053200   0.094667    0.147333  0.655000  1048600\n",
       "Arkansas    0.090920  0.087253   0.138360    0.220627  0.462867   469894\n",
       "California  0.032310  0.030724   0.063690    0.158603  0.714638  4472660"
      ]
     },
     "execution_count": 10,
     "metadata": {},
     "output_type": "execute_result"
    }
   ],
   "source": [
    "tmp_q5a = pd.DataFrame(index = county_data['STNAME'].unique())\n",
    "tmp_q5a[['NEVER', 'RARELY', 'SOMETIMES', 'FREQUENTLY', 'ALWAYS']] = (county_data.groupby('STNAME')\n",
    "                                                                     .mean()[['NEVER', 'RARELY', 'SOMETIMES', 'FREQUENTLY', 'ALWAYS']])\n",
    "tmp_q5a['Cases'] = county_data.groupby('STNAME').sum()['9/12/21']\n",
    "tmp_q5a.head()"
   ]
  },
  {
   "cell_type": "code",
   "execution_count": 11,
   "id": "0dccd43a",
   "metadata": {},
   "outputs": [
    {
     "data": {
      "image/png": "[encoded data removed]",
      "text/plain": [
       "<Figure size 1850x1050 with 2 Axes>"
      ]
     },
     "metadata": {
      "needs_background": "light"
     },
     "output_type": "display_data"
    }
   ],
   "source": [
    "sns.heatmap(tmp_q5a.corr(), annot = True)\n",
    "\n",
    "import matplotlib\n",
    "fig = matplotlib.pyplot.gcf()\n",
    "fig.set_size_inches(18.5, 10.5, forward=True)\n",
    "fig.set_dpi(100);"
   ]
  },
  {
   "cell_type": "markdown",
   "id": "d8860eb5",
   "metadata": {
    "deletable": false,
    "editable": false
   },
   "source": [
    "<!-- END QUESTION -->\n",
    "\n",
    "### Question 5b\n",
    "\n",
    "Train a linear regression model to predict the number of COVID-19 cases using county-wise mask usage data for September 12, 2021. Evaluate your model's RMSE on a held-out validation set with 33% of the county-wise data. When possible, make sure to set `random_state = 42` when splitting your data into training and test sets.\n",
    "<!--\n",
    "BEGIN QUESTION\n",
    "name: q5b\n",
    "points: 5\n",
    "-->"
   ]
  },
  {
   "cell_type": "code",
   "execution_count": 12,
   "id": "c917813e",
   "metadata": {},
   "outputs": [
    {
     "data": {
      "text/plain": [
       "(27834.430707426982, 62591.13087482178)"
      ]
     },
     "execution_count": 12,
     "metadata": {},
     "output_type": "execute_result"
    }
   ],
   "source": [
    "X_q5b = county_data.iloc[:, -5:]\n",
    "y_q5b = county_data.loc[:, '9/12/21']\n",
    "\n",
    "# Make sure to set random_state = 42 and test_size = 0.33!\n",
    "X_q5b_train, X_q5b_test, y_q5b_train, y_q5b_test = train_test_split(X_q5b, y_q5b,\n",
    "                                                                    test_size = 0.33,\n",
    "                                                                    random_state = 42)\n",
    "\n",
    "model = LinearRegression()\n",
    "\n",
    "model.fit(X_q5b_train, y_q5b_train)\n",
    "\n",
    "y_pred_train = model.predict(X_q5b_train)\n",
    "y_pred_test = model.predict(X_q5b_test)\n",
    "\n",
    "\n",
    "from sklearn.metrics import mean_squared_error\n",
    "# squared = False means RMSE instead of MSE\n",
    "train_rmse_cases = mean_squared_error(y_q5b_train, y_pred_train, squared = False)\n",
    "test_rmse_cases = mean_squared_error(y_q5b_test, y_pred_test, squared = False)\n",
    "\n",
    "\n",
    "train_rmse_cases, test_rmse_cases"
   ]
  },
  {
   "cell_type": "code",
   "execution_count": 13,
   "id": "6d3bcbd5",
   "metadata": {
    "deletable": false,
    "editable": false
   },
   "outputs": [
    {
     "data": {
      "text/html": [
       "<p><strong><pre style='display: inline;'>q5b</pre></strong> passed!</p>"
      ],
      "text/plain": [
       "q5b results: All test cases passed!"
      ]
     },
     "execution_count": 13,
     "metadata": {},
     "output_type": "execute_result"
    }
   ],
   "source": [
    "grader.check(\"q5b\")"
   ]
  },
  {
   "cell_type": "markdown",
   "id": "a07da3a5",
   "metadata": {
    "deletable": false,
    "editable": false
   },
   "source": [
    "<!-- BEGIN QUESTION -->\n",
    "\n",
    "### Question 5c\n",
    "\n",
    "Explain potential reasons the test set RMSE is much higher as compared to the training set RMSE.\n",
    "<!--\n",
    "BEGIN QUESTION\n",
    "name: q5c\n",
    "points: 3\n",
    "manual: True\n",
    "-->"
   ]
  },
  {
   "cell_type": "markdown",
   "id": "4fd63a7d",
   "metadata": {},
   "source": [
    "_Type your answer here, replacing this text._"
   ]
  },
  {
   "cell_type": "markdown",
   "id": "5bbbb97c",
   "metadata": {
    "deletable": false,
    "editable": false
   },
   "source": [
    "<!-- END QUESTION -->\n",
    "\n",
    "### Question 5d\n",
    "\n",
    "Instead of predicting the number of COVID-19 cases, redo part (b) by predicting the number of cases per capita. Report the model's RMSE on the training and validation set.\n",
    "\n",
    "Comment on the relationship between the training and test RMSE by predicting the number of cases per capita instead of the total number of cases.\n",
    "<!--\n",
    "BEGIN QUESTION\n",
    "name: q5d\n",
    "points: 3\n",
    "-->"
   ]
  },
  {
   "cell_type": "code",
   "execution_count": 14,
   "id": "85dfd858",
   "metadata": {},
   "outputs": [
    {
     "data": {
      "text/plain": [
       "(0.03540985737823185, 0.03816790349891604)"
      ]
     },
     "execution_count": 14,
     "metadata": {},
     "output_type": "execute_result"
    }
   ],
   "source": [
    "X_q5d = county_data.iloc[:, -5:]\n",
    "y_q5d = county_data.loc[:, '9/12/21'] / county_data['POPESTIMATE2020']\n",
    "\n",
    "# Make sure to set random_state = 42 and test_size = 0.33!\n",
    "X_q5d_train, X_q5d_test, y_q5d_train, y_q5d_test = train_test_split(X_q5d, y_q5d,\n",
    "                                                                    test_size = 0.33,\n",
    "                                                                    random_state = 42)\n",
    "\n",
    "model = LinearRegression()\n",
    "\n",
    "model.fit(X_q5d_train, y_q5d_train)\n",
    "\n",
    "y_pred_train = model.predict(X_q5d_train)\n",
    "y_pred_test = model.predict(X_q5d_test)\n",
    "\n",
    "\n",
    "from sklearn.metrics import mean_squared_error\n",
    "# squared = False means RMSE instead of MSE\n",
    "train_rmse_cpc = mean_squared_error(y_q5d_train, y_pred_train, squared = False)\n",
    "test_rmse_cpc = mean_squared_error(y_q5d_test, y_pred_test, squared = False)\n",
    "\n",
    "train_rmse_cpc, test_rmse_cpc"
   ]
  },
  {
   "cell_type": "code",
   "execution_count": 15,
   "id": "bdbcb703",
   "metadata": {
    "deletable": false,
    "editable": false
   },
   "outputs": [
    {
     "data": {
      "text/html": [
       "<p><strong><pre style='display: inline;'>q5d</pre></strong> passed!</p>"
      ],
      "text/plain": [
       "q5d results: All test cases passed!"
      ]
     },
     "execution_count": 15,
     "metadata": {},
     "output_type": "execute_result"
    }
   ],
   "source": [
    "grader.check(\"q5d\")"
   ]
  },
  {
   "cell_type": "markdown",
   "id": "5c2215f3",
   "metadata": {
    "deletable": false,
    "editable": false
   },
   "source": [
    "<!-- BEGIN QUESTION -->\n",
    "\n",
    "### Question 5e\n",
    "\n",
    "Visualize the model outputs from part (d) by plotting the predictions $\\hat{y}$ versus the observations $y$. Comment on what the plot indicates about our linear model as a comment in the code cell.\n",
    "\n",
    "<!--\n",
    "BEGIN QUESTION\n",
    "name: q5e\n",
    "points: 3\n",
    "manual: True\n",
    "-->"
   ]
  },
  {
   "cell_type": "code",
   "execution_count": 16,
   "id": "8e59258f",
   "metadata": {},
   "outputs": [
    {
     "data": {
      "image/png": "[encoded data removed]",
      "text/plain": [
       "<Figure size 432x288 with 1 Axes>"
      ]
     },
     "metadata": {
      "needs_background": "light"
     },
     "output_type": "display_data"
    }
   ],
   "source": [
    "sns.scatterplot(x = y_pred_train, y = y_q5d_train);"
   ]
  },
  {
   "cell_type": "markdown",
   "id": "fedb5469",
   "metadata": {
    "deletable": false,
    "editable": false
   },
   "source": [
    "<!-- END QUESTION -->\n",
    "\n",
    "### Question 5f\n",
    "\n",
    "We will investigate the bias and variance of this improved model on the test set using the bias-variance decomposition to formalize the behaviour of our model. To generate an empirical estimate of the errors and the parameters in the bias-variance decomposition, train 1000 bootstrapped models on the training dataset from part (d).\n",
    "\n",
    "<!--\n",
    "BEGIN QUESTION\n",
    "name: q5f\n",
    "points: 5\n",
    "-->"
   ]
  },
  {
   "cell_type": "code",
   "execution_count": 17,
   "id": "f7b7619b",
   "metadata": {},
   "outputs": [],
   "source": [
    "models = []\n",
    "\n",
    "for _ in range(1000):\n",
    "    X_q5f_train, X_q5f_test, y_q5f_train, y_q5f_test = train_test_split(X_q5d, y_q5d,\n",
    "                                                                    test_size = 0.33,\n",
    "                                                                    random_state = 42)\n",
    "    model = LinearRegression()\n",
    "    model.fit(X_q5f_train, y_q5f_train)\n",
    "    models.append(model)"
   ]
  },
  {
   "cell_type": "code",
   "execution_count": 18,
   "id": "5211469f",
   "metadata": {
    "deletable": false,
    "editable": false
   },
   "outputs": [
    {
     "data": {
      "text/html": [
       "<p><strong><pre style='display: inline;'>q5f</pre></strong> passed!</p>"
      ],
      "text/plain": [
       "q5f results: All test cases passed!"
      ]
     },
     "execution_count": 18,
     "metadata": {},
     "output_type": "execute_result"
    }
   ],
   "source": [
    "grader.check(\"q5f\")"
   ]
  },
  {
   "cell_type": "markdown",
   "id": "715760e0",
   "metadata": {
    "deletable": false,
    "editable": false
   },
   "source": [
    "### Question 5g\n",
    "\n",
    "To investigate the variance in our test predictions, we sample a particular test point $(x_i, y_i)$ such that $i = 100$. In other words, we will use the 100th point in the test set from part (d), `(X_q5d_test.iloc[100], y_q5d_test.iloc[100])` as the testing point.\n",
    "\n",
    "Generate predictions and square errors for this test point for all 1000 models, and calculate the *proportion* of the *expected* square error that is captured by the model prediction variance. In other words, we wish to estimate the following quantity:\n",
    "\n",
    "$$\n",
    "\\frac{\\mathrm{Var}(f_\\theta(x_i))}{\\mathrm{E}_\\theta[(y_i - f_\\theta(x_i))^2]}\n",
    "$$\n",
    "\n",
    "*Hint*: Refer to the bias-variance decomposition from lecture.\n",
    "<!--\n",
    "BEGIN QUESTION\n",
    "name: q5g\n",
    "points: 5\n",
    "-->"
   ]
  },
  {
   "cell_type": "code",
   "execution_count": 19,
   "id": "896ac261",
   "metadata": {},
   "outputs": [
    {
     "data": {
      "text/plain": [
       "4.519180334478493e-31"
      ]
     },
     "execution_count": 19,
     "metadata": {},
     "output_type": "execute_result"
    }
   ],
   "source": [
    "specil_x, special_y = X_q5d_test.iloc[100], y_q5d_test.iloc[100]\n",
    "\n",
    "y_pred = np.array([model.predict([specil_x]) for model in models])\n",
    "y_true = np.repeat(special_y, 1000)\n",
    "\n",
    "prop_var = np.var(y_pred) / np.mean((y_true - y_pred) ** 2)\n",
    "prop_var"
   ]
  },
  {
   "cell_type": "code",
   "execution_count": 20,
   "id": "4b7bcc0c",
   "metadata": {
    "deletable": false,
    "editable": false
   },
   "outputs": [
    {
     "data": {
      "text/html": [
       "<p><strong><pre style='display: inline;'>q5g</pre></strong> passed!</p>"
      ],
      "text/plain": [
       "q5g results: All test cases passed!"
      ]
     },
     "execution_count": 20,
     "metadata": {},
     "output_type": "execute_result"
    }
   ],
   "source": [
    "grader.check(\"q5g\")"
   ]
  },
  {
   "cell_type": "markdown",
   "id": "0b590da8",
   "metadata": {
    "deletable": false,
    "editable": false
   },
   "source": [
    "<!-- BEGIN QUESTION -->\n",
    "\n",
    "### Question 5h\n",
    "\n",
    "Using the bias-variance decomposition, comment on how much the variance of the model contributes to the error on the sample point above. We will extend this scenario to analyze the noise term in the bias-variance decomposition, specifically with regards to this COVID-19 dataset. Consider the following:\n",
    "\n",
    "i) Assuming no observational noise (i.e. $\\epsilon = 0$), what is the *magnitude* of the empirical model bias on this sample point?\n",
    "\n",
    "ii) Clearly, there is a non-trivial amount of observational noise with COVID-19 case data simply due to how testing works and occurs. Please take a look at [this article](https://fivethirtyeight.com/features/coronavirus-case-counts-are-meaningless/) for more information. Given this infomation, explain the issues with the assumptions and result in 5h(i).\n",
    "\n",
    "iii) Recall that we typically assume $y = g(x) + \\epsilon$, where $\\epsilon \\sim \\mathcal{N}(\\mu, \\sigma)$. In the theoretical setting for bias-variance, we have assumed $\\mu = 0, \\sigma > 0$. In this practical setting, analyze and determine how $\\epsilon$ could be modeled (as a normal distribution, but you may also consider how it could be modeled as another distribution). Are there any immediate issues with the assumptions we have made in the theoretical setting where $\\mu = 0, \\sigma > 0$? What conditions on $\\mu, \\sigma$ could be more appropriate and why?\n",
    "\n",
    "iv) Does the standard bias-variance decomposition presented in lecture hold given $\\epsilon$ being normally distributed according to your answer in part (iii)? If so, please explain why. If not, explain why it does not hold and if possible, how to modify the bias-variance decomposition to make it hold (i.e. perhaps there is an additional noise term $E[\\epsilon^3]$). \n",
    "\n",
    "*Hint*: Try to express $y = g(x) + \\epsilon$ by adding and subtracting a certain quantity.\n",
    "\n",
    "v) Intuitively, is it possible to minimize the true model bias to 0 given your $\\epsilon$ formulation in part (iii)? Why or why not? Justify your answer using part (iv) if possible.\n",
    "\n",
    "vi) Consider the infinite sample case where an oracle grants you as many samples as requested, and answer the same question in part (v). Is it possible to minimize the true model bias to 0 given your $\\epsilon$ formulation in part (iii)? Conclude with an analysis of what our modeling task can approximate using $X\\theta \\approx y$ in the finite and infinite sample case.\n",
    "\n",
    "<!--\n",
    "BEGIN QUESTION\n",
    "name: q5h\n",
    "points: 24\n",
    "manual: True\n",
    "-->"
   ]
  },
  {
   "cell_type": "markdown",
   "id": "f478bb92",
   "metadata": {},
   "source": [
    "_Type your answer here, replacing this text._"
   ]
  },
  {
   "cell_type": "markdown",
   "id": "653f5fdb",
   "metadata": {
    "deletable": false,
    "editable": false
   },
   "source": [
    "<!-- END QUESTION -->\n",
    "\n",
    "### Question 5i\n",
    "\n",
    "Using the bias-variance decomposition for each test point, calculate the average variance and average test mean-square error across the entire test set from part (d). In other words, estimate the following quantities:\n",
    "\n",
    "$$\n",
    "\\frac{1}{n} \\sum_i \\mathrm{Var}(f_\\theta(x_i))\n",
    "$$\n",
    "\n",
    "and\n",
    "\n",
    "$$\n",
    "\\frac{1}{n} \\sum_i \\mathrm{E}_\\theta[(y_i - f_\\theta(x_i))^2]\n",
    "$$\n",
    "\n",
    "<!--\n",
    "BEGIN QUESTION\n",
    "name: q5i\n",
    "points: 5\n",
    "manual: False\n",
    "-->"
   ]
  },
  {
   "cell_type": "code",
   "execution_count": 21,
   "id": "9a207935",
   "metadata": {},
   "outputs": [
    {
     "data": {
      "text/plain": [
       "(3.257574738656241e-30, 0.0014567888575025673)"
      ]
     },
     "execution_count": 21,
     "metadata": {},
     "output_type": "execute_result"
    }
   ],
   "source": [
    "y_pred = np.array([model.predict(X_q5d_test) for model in models])\n",
    "\n",
    "avg_var = np.mean(np.var(y_pred, axis = 0))\n",
    "\n",
    "y_5i_test = np.expand_dims(y_q5d_test, axis = 0)\n",
    "avg_mse = np.mean(np.mean((y_5i_test - y_pred) ** 2))\n",
    "\n",
    "avg_var, avg_mse"
   ]
  },
  {
   "cell_type": "code",
   "execution_count": 22,
   "id": "8243a140",
   "metadata": {
    "deletable": false,
    "editable": false
   },
   "outputs": [
    {
     "data": {
      "text/html": [
       "<p><strong><pre style='display: inline;'>q5i</pre></strong> passed!</p>"
      ],
      "text/plain": [
       "q5i results: All test cases passed!"
      ]
     },
     "execution_count": 22,
     "metadata": {},
     "output_type": "execute_result"
    }
   ],
   "source": [
    "grader.check(\"q5i\")"
   ]
  },
  {
   "cell_type": "markdown",
   "id": "15d6f530",
   "metadata": {
    "deletable": false,
    "editable": false
   },
   "source": [
    "<!-- BEGIN QUESTION -->\n",
    "\n",
    "## Question 5j\n",
    "\n",
    "Propose a solution to reducing the mean square error using the insights gained from the bias-variance decomposition above. What are the values of the quantities that have we estimated and what can be concluded about the remaining quantities? Please show all work that informs your analysis.\n",
    "\n",
    "Assume that the standard bias-variance decomposition used in lecture can be applied here.\n",
    "<!--\n",
    "BEGIN QUESTION\n",
    "name: q5j\n",
    "points: 5\n",
    "manual: True\n",
    "-->"
   ]
  },
  {
   "cell_type": "markdown",
   "id": "99bbb2f5",
   "metadata": {},
   "source": [
    "_Type your answer here, replacing this text._"
   ]
  },
  {
   "cell_type": "markdown",
   "id": "e6f0f9b9",
   "metadata": {
    "tags": []
   },
   "source": [
    "<!-- END QUESTION -->\n",
    "\n",
    "\n",
    "\n",
    "<br/><br/><br/>\n",
    "\n",
    "---\n",
    "\n",
    "<br/><br/><br/>\n",
    "\n",
    "## Question 6: Open Supervised Modeling\n",
    "\n",
    "We wish to extend our modeling framework from Question 5 to make it more accurate; in other words, we wish to predict $f(x)$, a supervised learning output, based on past and current quantities. \n",
    "\n",
    "This section will serve as a rough guide on creating an autoregressive modeling framework for predicting a COVID-19 quantity of your choice (i.e. deaths, cases, vaccinations).\n",
    "\n",
    "Note that if you do not wish to pursue time-based modeling of COVID-19, you may skip parts (d), (e), and (f). That being said, you are strongly encouraged to incorporate time-based modeling into your open-ended modeling design since it constitutes a large component of the provided datasets.\n",
    "\n",
    "We will ***not*** grade these below questions individually (i.e. there are no points explicitly assigned to questions 6(a) to 6(f)); they are simply guiding questions and will be graded as part of the final project report. You should make sure to answer all of the questions (that are applicable to your open-ended modeling) in some form in the report."
   ]
  },
  {
   "cell_type": "markdown",
   "id": "4b1e3e64",
   "metadata": {
    "deletable": false,
    "editable": false
   },
   "source": [
    "<!-- BEGIN QUESTION -->\n",
    "\n",
    "### Question 6a\n",
    "\n",
    "Train a baseline model where $f$ is the model described in Question 0a and $x$ is a quantity of *your* choice. Note that you may used *any* supervised learning approach we have studied; you are not limited to a linear model.\n",
    "\n",
    "<!--\n",
    "BEGIN QUESTION\n",
    "name: q6a\n",
    "points: 0\n",
    "manual: True\n",
    "-->"
   ]
  },
  {
   "cell_type": "code",
   "execution_count": 23,
   "id": "85819006",
   "metadata": {},
   "outputs": [
    {
     "data": {
      "text/plain": [
       "Ellipsis"
      ]
     },
     "execution_count": 23,
     "metadata": {},
     "output_type": "execute_result"
    }
   ],
   "source": [
    "..."
   ]
  },
  {
   "cell_type": "markdown",
   "id": "1a3b8a40",
   "metadata": {
    "deletable": false,
    "editable": false
   },
   "source": [
    "<!-- END QUESTION -->\n",
    "\n",
    "<!-- BEGIN QUESTION -->\n",
    "\n",
    "### Question 6b\n",
    "\n",
    "Improve your model from part (a). Specify the supervised model you choose and write $f(x)$ as a function of the chosen features and parameters in your model. Justify why you chose these features and how you expect they will correlate with the output you wish to predict.\n",
    "\n",
    "<!--\n",
    "BEGIN QUESTION\n",
    "name: q6b\n",
    "points: 0\n",
    "manual: True\n",
    "-->"
   ]
  },
  {
   "cell_type": "code",
   "execution_count": 24,
   "id": "0ab91b78",
   "metadata": {},
   "outputs": [
    {
     "data": {
      "text/plain": [
       "Ellipsis"
      ]
     },
     "execution_count": 24,
     "metadata": {},
     "output_type": "execute_result"
    }
   ],
   "source": [
    "..."
   ]
  },
  {
   "cell_type": "markdown",
   "id": "f28de6f8",
   "metadata": {
    "deletable": false,
    "editable": false
   },
   "source": [
    "<!-- END QUESTION -->\n",
    "\n",
    "<!-- BEGIN QUESTION -->\n",
    "\n",
    "### Question 6c\n",
    "\n",
    "If applicable, write an equation or rule for the prediction function $f(x)$; if this is infeasible, make sure to visualize your model parameters in some way. Interpret your improved model's optimal parameters (*hint*: refer to 1aiii), and compare these parameters to those of the baseline model. Comment on whether the parameters follow physical intuition given the nature of the prediction task.\n",
    "\n",
    "For example, if you chose to use a decision tree, you may interpret the generated rules.\n",
    " \n",
    "<!--\n",
    "BEGIN QUESTION\n",
    "name: q6c\n",
    "points: 0\n",
    "manual: True\n",
    "-->"
   ]
  },
  {
   "cell_type": "markdown",
   "id": "df0defa5",
   "metadata": {},
   "source": [
    "_Type your answer here, replacing this text._"
   ]
  },
  {
   "cell_type": "markdown",
   "id": "16b89e46",
   "metadata": {
    "deletable": false,
    "editable": false
   },
   "source": [
    "<!-- END QUESTION -->\n",
    "\n",
    "<!-- BEGIN QUESTION -->\n",
    "\n",
    "### Question 6d\n",
    "\n",
    "Discuss your improved model's performance on both short-term and long-term time scales using a metric of your choice (*hint:* we're using an autoregressive model). In other words, given $x_t$, we wish to predict $\\hat{x}_{t+k}$, and plot the error of these predictions for two $k$ values of your choice. You may use any reasonable interpretation of short-term and long-term predictions; an initial suggestion is to use 2-day predictions and 2-week predictions.\n",
    "\n",
    "Compare the performance of this model on both timescales with the baseline model.\n",
    "\n",
    "<!--\n",
    "BEGIN QUESTION\n",
    "name: q6d\n",
    "points: 0\n",
    "manual: True\n",
    "-->"
   ]
  },
  {
   "cell_type": "code",
   "execution_count": 25,
   "id": "605e7549",
   "metadata": {},
   "outputs": [
    {
     "data": {
      "text/plain": [
       "Ellipsis"
      ]
     },
     "execution_count": 25,
     "metadata": {},
     "output_type": "execute_result"
    }
   ],
   "source": [
    "..."
   ]
  },
  {
   "cell_type": "markdown",
   "id": "74ba1ff2",
   "metadata": {
    "deletable": false,
    "editable": false
   },
   "source": [
    "<!-- END QUESTION -->\n",
    "\n",
    "<!-- BEGIN QUESTION -->\n",
    "\n",
    "### Question 6e\n",
    "\n",
    "Plot and describe the error for both the baseline and improved models as a function of time. In other words, given $x_t$, we wish to predict $\\hat{x}_{t+k}$, and plot the error of these predictions for all $k$.\n",
    "\n",
    "Consider how and why the performance of the model degrades as a function of time using the rate of growth in the error.\n",
    "\n",
    "<!--\n",
    "BEGIN QUESTION\n",
    "name: q6e\n",
    "points: 0\n",
    "manual: True\n",
    "-->"
   ]
  },
  {
   "cell_type": "code",
   "execution_count": 26,
   "id": "9fd1992b",
   "metadata": {},
   "outputs": [
    {
     "data": {
      "text/plain": [
       "Ellipsis"
      ]
     },
     "execution_count": 26,
     "metadata": {},
     "output_type": "execute_result"
    }
   ],
   "source": [
    "..."
   ]
  },
  {
   "cell_type": "markdown",
   "id": "526caa49",
   "metadata": {
    "deletable": false,
    "editable": false
   },
   "source": [
    "<!-- END QUESTION -->\n",
    "\n",
    "<!-- BEGIN QUESTION -->\n",
    "\n",
    "### Question 6f\n",
    "\n",
    "Consider a modification to the model $f(x) = x_{t+1}$ where instead $f(x) = [x_{t+1}, x_{t+2}, ..., x_{t+m}]$ for some $m > 1$. In other words, using the features $x$ that contain past and present quantities, our model *explicitly* predicts values for $m$ days in the future rather than simply the next day (i.e. $m = 1$). \n",
    "\n",
    "Train the baseline and improved model using $m = 5$ and $m = 10$. Evaluate and visualize the predictive accuracy of both models.\n",
    "\n",
    "<!--\n",
    "BEGIN QUESTION\n",
    "name: q6f\n",
    "points: 0\n",
    "manual: True\n",
    "-->"
   ]
  },
  {
   "cell_type": "code",
   "execution_count": 27,
   "id": "535e290f",
   "metadata": {},
   "outputs": [
    {
     "data": {
      "text/plain": [
       "Ellipsis"
      ]
     },
     "execution_count": 27,
     "metadata": {},
     "output_type": "execute_result"
    }
   ],
   "source": [
    "..."
   ]
  },
  {
   "cell_type": "markdown",
   "id": "cb8bc5f0",
   "metadata": {
    "deletable": false,
    "editable": false
   },
   "source": [
    "---\n",
    "\n",
    "To double-check your work, the cell below will rerun all of the autograder tests."
   ]
  },
  {
   "cell_type": "code",
   "execution_count": 28,
   "id": "dd82aee6",
   "metadata": {
    "deletable": false,
    "editable": false
   },
   "outputs": [
    {
     "data": {
      "text/plain": [
       "q1a results: All test cases passed!\n",
       "\n",
       "q1d results: All test cases passed!\n",
       "\n",
       "q1e results: All test cases passed!\n",
       "\n",
       "q5b results: All test cases passed!\n",
       "\n",
       "q5d results: All test cases passed!\n",
       "\n",
       "q5f results: All test cases passed!\n",
       "\n",
       "q5g results: All test cases passed!\n",
       "\n",
       "q5i results: All test cases passed!"
      ]
     },
     "execution_count": 28,
     "metadata": {},
     "output_type": "execute_result"
    }
   ],
   "source": [
    "grader.check_all()"
   ]
  },
  {
   "cell_type": "markdown",
   "id": "7ecfb50d",
   "metadata": {
    "deletable": false,
    "editable": false
   },
   "source": [
    "## Submission\n",
    "\n",
    "Make sure you have run all cells in your notebook in order before running the cell below, so that all images/graphs appear in the output. The cell below will generate a zip file for you to submit. **Please save before exporting!**"
   ]
  },
  {
   "cell_type": "code",
   "execution_count": 29,
   "id": "febbeabf",
   "metadata": {
    "deletable": false,
    "editable": false
   },
   "outputs": [
    {
     "data": {
      "text/html": [
       "\n",
       "            <p>Your submission has been exported. Click <a href=\"covid_part2_2022_04_21T16_58_05_378178.zip\" download=\"covid_part2_2022_04_21T16_58_05_378178.zip\" target=\"_blank\">here</a>\n",
       "            to download the zip file.</p>\n",
       "            "
      ],
      "text/plain": [
       "<IPython.core.display.HTML object>"
      ]
     },
     "metadata": {},
     "output_type": "display_data"
    }
   ],
   "source": [
    "# Save your notebook first, then run this cell to export your submission.\n",
    "grader.export()"
   ]
  },
  {
   "cell_type": "markdown",
   "id": "fd5501bd",
   "metadata": {},
   "source": [
    " "
   ]
  }
 ],
 "metadata": {
  "kernelspec": {
   "display_name": "Python 3 (ipykernel)",
   "language": "python",
   "name": "python3"
  },
  "language_info": {
   "codemirror_mode": {
    "name": "ipython",
    "version": 3
   },
   "file_extension": ".py",
   "mimetype": "text/x-python",
   "name": "python",
   "nbconvert_exporter": "python",
   "pygments_lexer": "ipython3",
   "version": "3.9.7"
  }
 },
 "nbformat": 4,
 "nbformat_minor": 5
}
